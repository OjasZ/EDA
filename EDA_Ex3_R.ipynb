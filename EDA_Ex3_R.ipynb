{
  "nbformat": 4,
  "nbformat_minor": 0,
  "metadata": {
    "colab": {
      "provenance": [],
      "gpuType": "T4",
      "authorship_tag": "ABX9TyMXx/0dXCoE4dMiLyAbo3YL",
      "include_colab_link": true
    },
    "kernelspec": {
      "name": "ir",
      "display_name": "R"
    },
    "language_info": {
      "name": "R"
    },
    "accelerator": "GPU"
  },
  "cells": [
    {
      "cell_type": "markdown",
      "metadata": {
        "id": "view-in-github",
        "colab_type": "text"
      },
      "source": [
        "<a href=\"https://colab.research.google.com/github/OjasZ/EDA/blob/main/EDA_Ex3_R.ipynb\" target=\"_parent\"><img src=\"https://colab.research.google.com/assets/colab-badge.svg\" alt=\"Open In Colab\"/></a>"
      ]
    },
    {
      "cell_type": "code",
      "execution_count": 1,
      "metadata": {
        "colab": {
          "base_uri": "https://localhost:8080/",
          "height": 1000
        },
        "id": "-CyiYdlYJ36U",
        "outputId": "2f938bce-20df-4138-9a7f-befdb12eb592"
      },
      "outputs": [
        {
          "output_type": "stream",
          "name": "stderr",
          "text": [
            "\n",
            "Attaching package: ‘dplyr’\n",
            "\n",
            "\n",
            "The following objects are masked from ‘package:stats’:\n",
            "\n",
            "    filter, lag\n",
            "\n",
            "\n",
            "The following objects are masked from ‘package:base’:\n",
            "\n",
            "    intersect, setdiff, setequal, union\n",
            "\n",
            "\n"
          ]
        },
        {
          "output_type": "display_data",
          "data": {
            "text/html": [
              "<table class=\"dataframe\">\n",
              "<caption>A data.frame: 6 × 12</caption>\n",
              "<thead>\n",
              "\t<tr><th></th><th scope=col>rownames</th><th scope=col>Person_ID</th><th scope=col>Hospitalised</th><th scope=col>Died</th><th scope=col>Urban</th><th scope=col>Year</th><th scope=col>Month</th><th scope=col>Sex</th><th scope=col>Age</th><th scope=col>Education</th><th scope=col>Occupation</th><th scope=col>method</th></tr>\n",
              "\t<tr><th></th><th scope=col>&lt;int&gt;</th><th scope=col>&lt;int&gt;</th><th scope=col>&lt;chr&gt;</th><th scope=col>&lt;chr&gt;</th><th scope=col>&lt;chr&gt;</th><th scope=col>&lt;int&gt;</th><th scope=col>&lt;int&gt;</th><th scope=col>&lt;chr&gt;</th><th scope=col>&lt;int&gt;</th><th scope=col>&lt;chr&gt;</th><th scope=col>&lt;chr&gt;</th><th scope=col>&lt;chr&gt;</th></tr>\n",
              "</thead>\n",
              "<tbody>\n",
              "\t<tr><th scope=row>1</th><td>1</td><td>1</td><td>yes</td><td>no </td><td>no</td><td>2010</td><td>12</td><td>female</td><td>39</td><td>Secondary</td><td>household</td><td>Other poison</td></tr>\n",
              "\t<tr><th scope=row>2</th><td>2</td><td>2</td><td>no </td><td>yes</td><td>no</td><td>2009</td><td> 3</td><td>male  </td><td>83</td><td>primary  </td><td>farming  </td><td>Hanging     </td></tr>\n",
              "\t<tr><th scope=row>3</th><td>3</td><td>3</td><td>no </td><td>yes</td><td>no</td><td>2010</td><td> 2</td><td>male  </td><td>60</td><td>primary  </td><td>farming  </td><td>Hanging     </td></tr>\n",
              "\t<tr><th scope=row>4</th><td>4</td><td>4</td><td>no </td><td>yes</td><td>no</td><td>2011</td><td> 1</td><td>male  </td><td>73</td><td>primary  </td><td>farming  </td><td>Hanging     </td></tr>\n",
              "\t<tr><th scope=row>5</th><td>5</td><td>5</td><td>yes</td><td>no </td><td>no</td><td>2009</td><td> 8</td><td>male  </td><td>51</td><td>Secondary</td><td>farming  </td><td>Pesticide   </td></tr>\n",
              "\t<tr><th scope=row>6</th><td>6</td><td>6</td><td>no </td><td>yes</td><td>no</td><td>2009</td><td>11</td><td>male  </td><td>62</td><td>iliterate</td><td>farming  </td><td>Pesticide   </td></tr>\n",
              "</tbody>\n",
              "</table>\n"
            ],
            "text/markdown": "\nA data.frame: 6 × 12\n\n| <!--/--> | rownames &lt;int&gt; | Person_ID &lt;int&gt; | Hospitalised &lt;chr&gt; | Died &lt;chr&gt; | Urban &lt;chr&gt; | Year &lt;int&gt; | Month &lt;int&gt; | Sex &lt;chr&gt; | Age &lt;int&gt; | Education &lt;chr&gt; | Occupation &lt;chr&gt; | method &lt;chr&gt; |\n|---|---|---|---|---|---|---|---|---|---|---|---|---|\n| 1 | 1 | 1 | yes | no  | no | 2010 | 12 | female | 39 | Secondary | household | Other poison |\n| 2 | 2 | 2 | no  | yes | no | 2009 |  3 | male   | 83 | primary   | farming   | Hanging      |\n| 3 | 3 | 3 | no  | yes | no | 2010 |  2 | male   | 60 | primary   | farming   | Hanging      |\n| 4 | 4 | 4 | no  | yes | no | 2011 |  1 | male   | 73 | primary   | farming   | Hanging      |\n| 5 | 5 | 5 | yes | no  | no | 2009 |  8 | male   | 51 | Secondary | farming   | Pesticide    |\n| 6 | 6 | 6 | no  | yes | no | 2009 | 11 | male   | 62 | iliterate | farming   | Pesticide    |\n\n",
            "text/latex": "A data.frame: 6 × 12\n\\begin{tabular}{r|llllllllllll}\n  & rownames & Person\\_ID & Hospitalised & Died & Urban & Year & Month & Sex & Age & Education & Occupation & method\\\\\n  & <int> & <int> & <chr> & <chr> & <chr> & <int> & <int> & <chr> & <int> & <chr> & <chr> & <chr>\\\\\n\\hline\n\t1 & 1 & 1 & yes & no  & no & 2010 & 12 & female & 39 & Secondary & household & Other poison\\\\\n\t2 & 2 & 2 & no  & yes & no & 2009 &  3 & male   & 83 & primary   & farming   & Hanging     \\\\\n\t3 & 3 & 3 & no  & yes & no & 2010 &  2 & male   & 60 & primary   & farming   & Hanging     \\\\\n\t4 & 4 & 4 & no  & yes & no & 2011 &  1 & male   & 73 & primary   & farming   & Hanging     \\\\\n\t5 & 5 & 5 & yes & no  & no & 2009 &  8 & male   & 51 & Secondary & farming   & Pesticide   \\\\\n\t6 & 6 & 6 & no  & yes & no & 2009 & 11 & male   & 62 & iliterate & farming   & Pesticide   \\\\\n\\end{tabular}\n",
            "text/plain": [
              "  rownames Person_ID Hospitalised Died Urban Year Month Sex    Age Education\n",
              "1 1        1         yes          no   no    2010 12    female 39  Secondary\n",
              "2 2        2         no           yes  no    2009  3    male   83  primary  \n",
              "3 3        3         no           yes  no    2010  2    male   60  primary  \n",
              "4 4        4         no           yes  no    2011  1    male   73  primary  \n",
              "5 5        5         yes          no   no    2009  8    male   51  Secondary\n",
              "6 6        6         no           yes  no    2009 11    male   62  iliterate\n",
              "  Occupation method      \n",
              "1 household  Other poison\n",
              "2 farming    Hanging     \n",
              "3 farming    Hanging     \n",
              "4 farming    Hanging     \n",
              "5 farming    Pesticide   \n",
              "6 farming    Pesticide   "
            ]
          },
          "metadata": {}
        },
        {
          "output_type": "stream",
          "name": "stdout",
          "text": [
            "'data.frame':\t2571 obs. of  12 variables:\n",
            " $ rownames    : int  1 2 3 4 5 6 7 8 9 10 ...\n",
            " $ Person_ID   : int  1 2 3 4 5 6 7 8 9 10 ...\n",
            " $ Hospitalised: chr  \"yes\" \"no\" \"no\" \"no\" ...\n",
            " $ Died        : chr  \"no\" \"yes\" \"yes\" \"yes\" ...\n",
            " $ Urban       : chr  \"no\" \"no\" \"no\" \"no\" ...\n",
            " $ Year        : int  2010 2009 2010 2011 2009 2009 2010 2010 2010 2011 ...\n",
            " $ Month       : int  12 3 2 1 8 11 1 10 7 1 ...\n",
            " $ Sex         : chr  \"female\" \"male\" \"male\" \"male\" ...\n",
            " $ Age         : int  39 83 60 73 51 62 90 54 66 30 ...\n",
            " $ Education   : chr  \"Secondary\" \"primary\" \"primary\" \"primary\" ...\n",
            " $ Occupation  : chr  \"household\" \"farming\" \"farming\" \"farming\" ...\n",
            " $ method      : chr  \"Other poison\" \"Hanging\" \"Hanging\" \"Hanging\" ...\n"
          ]
        },
        {
          "output_type": "display_data",
          "data": {
            "text/plain": [
              "    rownames        Person_ID      Hospitalised           Died          \n",
              " Min.   :   1.0   Min.   :   1.0   Length:2571        Length:2571       \n",
              " 1st Qu.: 643.5   1st Qu.: 643.5   Class :character   Class :character  \n",
              " Median :1286.0   Median :1286.0   Mode  :character   Mode  :character  \n",
              " Mean   :1286.0   Mean   :1286.0                                        \n",
              " 3rd Qu.:1928.5   3rd Qu.:1928.5                                        \n",
              " Max.   :2571.0   Max.   :2571.0                                        \n",
              "    Urban                Year          Month            Sex           \n",
              " Length:2571        Min.   :2009   Min.   : 1.000   Length:2571       \n",
              " Class :character   1st Qu.:2009   1st Qu.: 4.000   Class :character  \n",
              " Mode  :character   Median :2010   Median : 6.000   Mode  :character  \n",
              "                    Mean   :2010   Mean   : 6.298                     \n",
              "                    3rd Qu.:2011   3rd Qu.: 9.000                     \n",
              "                    Max.   :2011   Max.   :12.000                     \n",
              "      Age          Education          Occupation           method         \n",
              " Min.   : 12.00   Length:2571        Length:2571        Length:2571       \n",
              " 1st Qu.: 37.00   Class :character   Class :character   Class :character  \n",
              " Median : 53.00   Mode  :character   Mode  :character   Mode  :character  \n",
              " Mean   : 52.63                                                           \n",
              " 3rd Qu.: 69.00                                                           \n",
              " Max.   :100.00                                                           "
            ]
          },
          "metadata": {}
        },
        {
          "output_type": "display_data",
          "data": {
            "text/html": [
              "<style>\n",
              ".dl-inline {width: auto; margin:0; padding: 0}\n",
              ".dl-inline>dt, .dl-inline>dd {float: none; width: auto; display: inline-block}\n",
              ".dl-inline>dt::after {content: \":\\0020\"; padding-right: .5ex}\n",
              ".dl-inline>dt:not(:first-of-type) {padding-left: .5ex}\n",
              "</style><dl class=dl-inline><dt>rownames</dt><dd>0</dd><dt>Person_ID</dt><dd>0</dd><dt>Hospitalised</dt><dd>0</dd><dt>Died</dt><dd>0</dd><dt>Urban</dt><dd>0</dd><dt>Year</dt><dd>0</dd><dt>Month</dt><dd>0</dd><dt>Sex</dt><dd>0</dd><dt>Age</dt><dd>0</dd><dt>Education</dt><dd>0</dd><dt>Occupation</dt><dd>0</dd><dt>method</dt><dd>0</dd></dl>\n"
            ],
            "text/markdown": "rownames\n:   0Person_ID\n:   0Hospitalised\n:   0Died\n:   0Urban\n:   0Year\n:   0Month\n:   0Sex\n:   0Age\n:   0Education\n:   0Occupation\n:   0method\n:   0\n\n",
            "text/latex": "\\begin{description*}\n\\item[rownames] 0\n\\item[Person\\textbackslash{}\\_ID] 0\n\\item[Hospitalised] 0\n\\item[Died] 0\n\\item[Urban] 0\n\\item[Year] 0\n\\item[Month] 0\n\\item[Sex] 0\n\\item[Age] 0\n\\item[Education] 0\n\\item[Occupation] 0\n\\item[method] 0\n\\end{description*}\n",
            "text/plain": [
              "    rownames    Person_ID Hospitalised         Died        Urban         Year \n",
              "           0            0            0            0            0            0 \n",
              "       Month          Sex          Age    Education   Occupation       method \n",
              "           0            0            0            0            0            0 "
            ]
          },
          "metadata": {}
        },
        {
          "output_type": "display_data",
          "data": {
            "text/html": [
              "52.6308829249319"
            ],
            "text/markdown": "52.6308829249319",
            "text/latex": "52.6308829249319",
            "text/plain": [
              "[1] 52.63088"
            ]
          },
          "metadata": {}
        },
        {
          "output_type": "display_data",
          "data": {
            "text/html": [
              "53"
            ],
            "text/markdown": "53",
            "text/latex": "53",
            "text/plain": [
              "[1] 53"
            ]
          },
          "metadata": {}
        },
        {
          "output_type": "display_data",
          "data": {
            "text/html": [
              "19.7838780795388"
            ],
            "text/markdown": "19.7838780795388",
            "text/latex": "19.7838780795388",
            "text/plain": [
              "[1] 19.78388"
            ]
          },
          "metadata": {}
        },
        {
          "output_type": "display_data",
          "data": {
            "text/plain": [
              "\n",
              "female   male \n",
              "  1328   1243 "
            ]
          },
          "metadata": {}
        },
        {
          "output_type": "display_data",
          "data": {
            "text/plain": [
              "\n",
              "iliterate   primary Secondary  Tertiary   unknown \n",
              "      533       659      1280        19        80 "
            ]
          },
          "metadata": {}
        },
        {
          "output_type": "display_data",
          "data": {
            "text/plain": [
              "\n",
              "business/service          farming        household           others \n",
              "              21             2032              248                3 \n",
              "  others/unknown     professional          retiree          student \n",
              "             156               37                3               35 \n",
              "      unemployed           worker \n",
              "              30                6 "
            ]
          },
          "metadata": {}
        },
        {
          "output_type": "display_data",
          "data": {
            "text/plain": [
              "\n",
              "      Cutting      Drowning       Hanging       Jumping  Other poison \n",
              "           29            26           431            15           146 \n",
              "       Others     Pesticide Poison unspec   unspecified \n",
              "            1          1768           107            48 "
            ]
          },
          "metadata": {}
        },
        {
          "output_type": "display_data",
          "data": {
            "text/html": [
              "<table class=\"dataframe\">\n",
              "<caption>A data.frame: 6 × 12</caption>\n",
              "<thead>\n",
              "\t<tr><th></th><th scope=col>rownames</th><th scope=col>Person_ID</th><th scope=col>Hospitalised</th><th scope=col>Died</th><th scope=col>Urban</th><th scope=col>Year</th><th scope=col>Month</th><th scope=col>Sex</th><th scope=col>Age</th><th scope=col>Education</th><th scope=col>Occupation</th><th scope=col>method</th></tr>\n",
              "\t<tr><th></th><th scope=col>&lt;int&gt;</th><th scope=col>&lt;int&gt;</th><th scope=col>&lt;dbl&gt;</th><th scope=col>&lt;dbl&gt;</th><th scope=col>&lt;chr&gt;</th><th scope=col>&lt;int&gt;</th><th scope=col>&lt;int&gt;</th><th scope=col>&lt;chr&gt;</th><th scope=col>&lt;int&gt;</th><th scope=col>&lt;chr&gt;</th><th scope=col>&lt;chr&gt;</th><th scope=col>&lt;chr&gt;</th></tr>\n",
              "</thead>\n",
              "<tbody>\n",
              "\t<tr><th scope=row>1</th><td>1</td><td>1</td><td>1</td><td>0</td><td>no</td><td>2010</td><td>12</td><td>female</td><td>39</td><td>Secondary</td><td>household</td><td>Other poison</td></tr>\n",
              "\t<tr><th scope=row>2</th><td>2</td><td>2</td><td>0</td><td>1</td><td>no</td><td>2009</td><td> 3</td><td>male  </td><td>83</td><td>primary  </td><td>farming  </td><td>Hanging     </td></tr>\n",
              "\t<tr><th scope=row>3</th><td>3</td><td>3</td><td>0</td><td>1</td><td>no</td><td>2010</td><td> 2</td><td>male  </td><td>60</td><td>primary  </td><td>farming  </td><td>Hanging     </td></tr>\n",
              "\t<tr><th scope=row>4</th><td>4</td><td>4</td><td>0</td><td>1</td><td>no</td><td>2011</td><td> 1</td><td>male  </td><td>73</td><td>primary  </td><td>farming  </td><td>Hanging     </td></tr>\n",
              "\t<tr><th scope=row>5</th><td>5</td><td>5</td><td>1</td><td>0</td><td>no</td><td>2009</td><td> 8</td><td>male  </td><td>51</td><td>Secondary</td><td>farming  </td><td>Pesticide   </td></tr>\n",
              "\t<tr><th scope=row>6</th><td>6</td><td>6</td><td>0</td><td>1</td><td>no</td><td>2009</td><td>11</td><td>male  </td><td>62</td><td>iliterate</td><td>farming  </td><td>Pesticide   </td></tr>\n",
              "</tbody>\n",
              "</table>\n"
            ],
            "text/markdown": "\nA data.frame: 6 × 12\n\n| <!--/--> | rownames &lt;int&gt; | Person_ID &lt;int&gt; | Hospitalised &lt;dbl&gt; | Died &lt;dbl&gt; | Urban &lt;chr&gt; | Year &lt;int&gt; | Month &lt;int&gt; | Sex &lt;chr&gt; | Age &lt;int&gt; | Education &lt;chr&gt; | Occupation &lt;chr&gt; | method &lt;chr&gt; |\n|---|---|---|---|---|---|---|---|---|---|---|---|---|\n| 1 | 1 | 1 | 1 | 0 | no | 2010 | 12 | female | 39 | Secondary | household | Other poison |\n| 2 | 2 | 2 | 0 | 1 | no | 2009 |  3 | male   | 83 | primary   | farming   | Hanging      |\n| 3 | 3 | 3 | 0 | 1 | no | 2010 |  2 | male   | 60 | primary   | farming   | Hanging      |\n| 4 | 4 | 4 | 0 | 1 | no | 2011 |  1 | male   | 73 | primary   | farming   | Hanging      |\n| 5 | 5 | 5 | 1 | 0 | no | 2009 |  8 | male   | 51 | Secondary | farming   | Pesticide    |\n| 6 | 6 | 6 | 0 | 1 | no | 2009 | 11 | male   | 62 | iliterate | farming   | Pesticide    |\n\n",
            "text/latex": "A data.frame: 6 × 12\n\\begin{tabular}{r|llllllllllll}\n  & rownames & Person\\_ID & Hospitalised & Died & Urban & Year & Month & Sex & Age & Education & Occupation & method\\\\\n  & <int> & <int> & <dbl> & <dbl> & <chr> & <int> & <int> & <chr> & <int> & <chr> & <chr> & <chr>\\\\\n\\hline\n\t1 & 1 & 1 & 1 & 0 & no & 2010 & 12 & female & 39 & Secondary & household & Other poison\\\\\n\t2 & 2 & 2 & 0 & 1 & no & 2009 &  3 & male   & 83 & primary   & farming   & Hanging     \\\\\n\t3 & 3 & 3 & 0 & 1 & no & 2010 &  2 & male   & 60 & primary   & farming   & Hanging     \\\\\n\t4 & 4 & 4 & 0 & 1 & no & 2011 &  1 & male   & 73 & primary   & farming   & Hanging     \\\\\n\t5 & 5 & 5 & 1 & 0 & no & 2009 &  8 & male   & 51 & Secondary & farming   & Pesticide   \\\\\n\t6 & 6 & 6 & 0 & 1 & no & 2009 & 11 & male   & 62 & iliterate & farming   & Pesticide   \\\\\n\\end{tabular}\n",
            "text/plain": [
              "  rownames Person_ID Hospitalised Died Urban Year Month Sex    Age Education\n",
              "1 1        1         1            0    no    2010 12    female 39  Secondary\n",
              "2 2        2         0            1    no    2009  3    male   83  primary  \n",
              "3 3        3         0            1    no    2010  2    male   60  primary  \n",
              "4 4        4         0            1    no    2011  1    male   73  primary  \n",
              "5 5        5         1            0    no    2009  8    male   51  Secondary\n",
              "6 6        6         0            1    no    2009 11    male   62  iliterate\n",
              "  Occupation method      \n",
              "1 household  Other poison\n",
              "2 farming    Hanging     \n",
              "3 farming    Hanging     \n",
              "4 farming    Hanging     \n",
              "5 farming    Pesticide   \n",
              "6 farming    Pesticide   "
            ]
          },
          "metadata": {}
        },
        {
          "output_type": "display_data",
          "data": {
            "text/html": [
              "<table class=\"dataframe\">\n",
              "<caption>A data.frame: 6 × 12</caption>\n",
              "<thead>\n",
              "\t<tr><th></th><th scope=col>rownames</th><th scope=col>Person_ID</th><th scope=col>Hospitalised</th><th scope=col>Died</th><th scope=col>Urban</th><th scope=col>Year</th><th scope=col>Month</th><th scope=col>Sex</th><th scope=col>Age</th><th scope=col>Education</th><th scope=col>Occupation</th><th scope=col>method</th></tr>\n",
              "\t<tr><th></th><th scope=col>&lt;int&gt;</th><th scope=col>&lt;int&gt;</th><th scope=col>&lt;dbl&gt;</th><th scope=col>&lt;dbl&gt;</th><th scope=col>&lt;fct&gt;</th><th scope=col>&lt;int&gt;</th><th scope=col>&lt;int&gt;</th><th scope=col>&lt;chr&gt;</th><th scope=col>&lt;int&gt;</th><th scope=col>&lt;chr&gt;</th><th scope=col>&lt;chr&gt;</th><th scope=col>&lt;chr&gt;</th></tr>\n",
              "</thead>\n",
              "<tbody>\n",
              "\t<tr><th scope=row>1</th><td>2</td><td>2</td><td>0</td><td>1</td><td>no</td><td>2009</td><td> 3</td><td>male</td><td>83</td><td>primary  </td><td>farming</td><td>Hanging  </td></tr>\n",
              "\t<tr><th scope=row>2</th><td>3</td><td>3</td><td>0</td><td>1</td><td>no</td><td>2010</td><td> 2</td><td>male</td><td>60</td><td>primary  </td><td>farming</td><td>Hanging  </td></tr>\n",
              "\t<tr><th scope=row>3</th><td>4</td><td>4</td><td>0</td><td>1</td><td>no</td><td>2011</td><td> 1</td><td>male</td><td>73</td><td>primary  </td><td>farming</td><td>Hanging  </td></tr>\n",
              "\t<tr><th scope=row>4</th><td>5</td><td>5</td><td>1</td><td>0</td><td>no</td><td>2009</td><td> 8</td><td>male</td><td>51</td><td>Secondary</td><td>farming</td><td>Pesticide</td></tr>\n",
              "\t<tr><th scope=row>5</th><td>6</td><td>6</td><td>0</td><td>1</td><td>no</td><td>2009</td><td>11</td><td>male</td><td>62</td><td>iliterate</td><td>farming</td><td>Pesticide</td></tr>\n",
              "\t<tr><th scope=row>6</th><td>8</td><td>8</td><td>1</td><td>0</td><td>no</td><td>2010</td><td>10</td><td>male</td><td>54</td><td>Secondary</td><td>farming</td><td>Pesticide</td></tr>\n",
              "</tbody>\n",
              "</table>\n"
            ],
            "text/markdown": "\nA data.frame: 6 × 12\n\n| <!--/--> | rownames &lt;int&gt; | Person_ID &lt;int&gt; | Hospitalised &lt;dbl&gt; | Died &lt;dbl&gt; | Urban &lt;fct&gt; | Year &lt;int&gt; | Month &lt;int&gt; | Sex &lt;chr&gt; | Age &lt;int&gt; | Education &lt;chr&gt; | Occupation &lt;chr&gt; | method &lt;chr&gt; |\n|---|---|---|---|---|---|---|---|---|---|---|---|---|\n| 1 | 2 | 2 | 0 | 1 | no | 2009 |  3 | male | 83 | primary   | farming | Hanging   |\n| 2 | 3 | 3 | 0 | 1 | no | 2010 |  2 | male | 60 | primary   | farming | Hanging   |\n| 3 | 4 | 4 | 0 | 1 | no | 2011 |  1 | male | 73 | primary   | farming | Hanging   |\n| 4 | 5 | 5 | 1 | 0 | no | 2009 |  8 | male | 51 | Secondary | farming | Pesticide |\n| 5 | 6 | 6 | 0 | 1 | no | 2009 | 11 | male | 62 | iliterate | farming | Pesticide |\n| 6 | 8 | 8 | 1 | 0 | no | 2010 | 10 | male | 54 | Secondary | farming | Pesticide |\n\n",
            "text/latex": "A data.frame: 6 × 12\n\\begin{tabular}{r|llllllllllll}\n  & rownames & Person\\_ID & Hospitalised & Died & Urban & Year & Month & Sex & Age & Education & Occupation & method\\\\\n  & <int> & <int> & <dbl> & <dbl> & <fct> & <int> & <int> & <chr> & <int> & <chr> & <chr> & <chr>\\\\\n\\hline\n\t1 & 2 & 2 & 0 & 1 & no & 2009 &  3 & male & 83 & primary   & farming & Hanging  \\\\\n\t2 & 3 & 3 & 0 & 1 & no & 2010 &  2 & male & 60 & primary   & farming & Hanging  \\\\\n\t3 & 4 & 4 & 0 & 1 & no & 2011 &  1 & male & 73 & primary   & farming & Hanging  \\\\\n\t4 & 5 & 5 & 1 & 0 & no & 2009 &  8 & male & 51 & Secondary & farming & Pesticide\\\\\n\t5 & 6 & 6 & 0 & 1 & no & 2009 & 11 & male & 62 & iliterate & farming & Pesticide\\\\\n\t6 & 8 & 8 & 1 & 0 & no & 2010 & 10 & male & 54 & Secondary & farming & Pesticide\\\\\n\\end{tabular}\n",
            "text/plain": [
              "  rownames Person_ID Hospitalised Died Urban Year Month Sex  Age Education\n",
              "1 2        2         0            1    no    2009  3    male 83  primary  \n",
              "2 3        3         0            1    no    2010  2    male 60  primary  \n",
              "3 4        4         0            1    no    2011  1    male 73  primary  \n",
              "4 5        5         1            0    no    2009  8    male 51  Secondary\n",
              "5 6        6         0            1    no    2009 11    male 62  iliterate\n",
              "6 8        8         1            0    no    2010 10    male 54  Secondary\n",
              "  Occupation method   \n",
              "1 farming    Hanging  \n",
              "2 farming    Hanging  \n",
              "3 farming    Hanging  \n",
              "4 farming    Pesticide\n",
              "5 farming    Pesticide\n",
              "6 farming    Pesticide"
            ]
          },
          "metadata": {}
        },
        {
          "output_type": "display_data",
          "data": {
            "text/html": [
              "<table class=\"dataframe\">\n",
              "<caption>A data.frame: 6 × 12</caption>\n",
              "<thead>\n",
              "\t<tr><th></th><th scope=col>rownames</th><th scope=col>Person_ID</th><th scope=col>Hospitalised</th><th scope=col>Died</th><th scope=col>Urban</th><th scope=col>Year</th><th scope=col>Month</th><th scope=col>Sex</th><th scope=col>Age</th><th scope=col>Education</th><th scope=col>Occupation</th><th scope=col>method</th></tr>\n",
              "\t<tr><th></th><th scope=col>&lt;int&gt;</th><th scope=col>&lt;int&gt;</th><th scope=col>&lt;dbl&gt;</th><th scope=col>&lt;dbl&gt;</th><th scope=col>&lt;fct&gt;</th><th scope=col>&lt;int&gt;</th><th scope=col>&lt;int&gt;</th><th scope=col>&lt;chr&gt;</th><th scope=col>&lt;int&gt;</th><th scope=col>&lt;chr&gt;</th><th scope=col>&lt;chr&gt;</th><th scope=col>&lt;chr&gt;</th></tr>\n",
              "</thead>\n",
              "<tbody>\n",
              "\t<tr><th scope=row>1</th><td> 18</td><td> 18</td><td>1</td><td>1</td><td>no</td><td>2011</td><td> 5</td><td>male  </td><td>26</td><td>Secondary</td><td>farming     </td><td>Pesticide</td></tr>\n",
              "\t<tr><th scope=row>2</th><td> 80</td><td> 80</td><td>1</td><td>1</td><td>no</td><td>2010</td><td>11</td><td>male  </td><td>57</td><td>Secondary</td><td>farming     </td><td>Pesticide</td></tr>\n",
              "\t<tr><th scope=row>3</th><td> 90</td><td> 90</td><td>1</td><td>1</td><td>no</td><td>2009</td><td> 6</td><td>female</td><td>39</td><td>Secondary</td><td>household   </td><td>Pesticide</td></tr>\n",
              "\t<tr><th scope=row>4</th><td> 93</td><td> 93</td><td>1</td><td>1</td><td>no</td><td>2011</td><td> 4</td><td>male  </td><td>53</td><td>primary  </td><td>farming     </td><td>Pesticide</td></tr>\n",
              "\t<tr><th scope=row>5</th><td>101</td><td>101</td><td>1</td><td>1</td><td>no</td><td>2011</td><td> 9</td><td>male  </td><td>32</td><td>Secondary</td><td>professional</td><td>Pesticide</td></tr>\n",
              "\t<tr><th scope=row>6</th><td>118</td><td>118</td><td>1</td><td>1</td><td>no</td><td>2010</td><td> 7</td><td>female</td><td>73</td><td>Secondary</td><td>farming     </td><td>Pesticide</td></tr>\n",
              "</tbody>\n",
              "</table>\n"
            ],
            "text/markdown": "\nA data.frame: 6 × 12\n\n| <!--/--> | rownames &lt;int&gt; | Person_ID &lt;int&gt; | Hospitalised &lt;dbl&gt; | Died &lt;dbl&gt; | Urban &lt;fct&gt; | Year &lt;int&gt; | Month &lt;int&gt; | Sex &lt;chr&gt; | Age &lt;int&gt; | Education &lt;chr&gt; | Occupation &lt;chr&gt; | method &lt;chr&gt; |\n|---|---|---|---|---|---|---|---|---|---|---|---|---|\n| 1 |  18 |  18 | 1 | 1 | no | 2011 |  5 | male   | 26 | Secondary | farming      | Pesticide |\n| 2 |  80 |  80 | 1 | 1 | no | 2010 | 11 | male   | 57 | Secondary | farming      | Pesticide |\n| 3 |  90 |  90 | 1 | 1 | no | 2009 |  6 | female | 39 | Secondary | household    | Pesticide |\n| 4 |  93 |  93 | 1 | 1 | no | 2011 |  4 | male   | 53 | primary   | farming      | Pesticide |\n| 5 | 101 | 101 | 1 | 1 | no | 2011 |  9 | male   | 32 | Secondary | professional | Pesticide |\n| 6 | 118 | 118 | 1 | 1 | no | 2010 |  7 | female | 73 | Secondary | farming      | Pesticide |\n\n",
            "text/latex": "A data.frame: 6 × 12\n\\begin{tabular}{r|llllllllllll}\n  & rownames & Person\\_ID & Hospitalised & Died & Urban & Year & Month & Sex & Age & Education & Occupation & method\\\\\n  & <int> & <int> & <dbl> & <dbl> & <fct> & <int> & <int> & <chr> & <int> & <chr> & <chr> & <chr>\\\\\n\\hline\n\t1 &  18 &  18 & 1 & 1 & no & 2011 &  5 & male   & 26 & Secondary & farming      & Pesticide\\\\\n\t2 &  80 &  80 & 1 & 1 & no & 2010 & 11 & male   & 57 & Secondary & farming      & Pesticide\\\\\n\t3 &  90 &  90 & 1 & 1 & no & 2009 &  6 & female & 39 & Secondary & household    & Pesticide\\\\\n\t4 &  93 &  93 & 1 & 1 & no & 2011 &  4 & male   & 53 & primary   & farming      & Pesticide\\\\\n\t5 & 101 & 101 & 1 & 1 & no & 2011 &  9 & male   & 32 & Secondary & professional & Pesticide\\\\\n\t6 & 118 & 118 & 1 & 1 & no & 2010 &  7 & female & 73 & Secondary & farming      & Pesticide\\\\\n\\end{tabular}\n",
            "text/plain": [
              "  rownames Person_ID Hospitalised Died Urban Year Month Sex    Age Education\n",
              "1  18       18       1            1    no    2011  5    male   26  Secondary\n",
              "2  80       80       1            1    no    2010 11    male   57  Secondary\n",
              "3  90       90       1            1    no    2009  6    female 39  Secondary\n",
              "4  93       93       1            1    no    2011  4    male   53  primary  \n",
              "5 101      101       1            1    no    2011  9    male   32  Secondary\n",
              "6 118      118       1            1    no    2010  7    female 73  Secondary\n",
              "  Occupation   method   \n",
              "1 farming      Pesticide\n",
              "2 farming      Pesticide\n",
              "3 household    Pesticide\n",
              "4 farming      Pesticide\n",
              "5 professional Pesticide\n",
              "6 farming      Pesticide"
            ]
          },
          "metadata": {}
        },
        {
          "output_type": "display_data",
          "data": {
            "text/plain": [
              "plot without title"
            ],
            "image/png": "[encoded data removed]"
          },
          "metadata": {
            "image/png": {
              "width": 420,
              "height": 420
            }
          }
        },
        {
          "output_type": "display_data",
          "data": {
            "text/plain": [
              "plot without title"
            ],
            "image/png": "[encoded data removed]"
          },
          "metadata": {
            "image/png": {
              "width": 420,
              "height": 420
            }
          }
        },
        {
          "output_type": "display_data",
          "data": {
            "text/plain": [
              "plot without title"
            ],
            "image/png": "[encoded data removed]"
          },
          "metadata": {
            "image/png": {
              "width": 420,
              "height": 420
            }
          }
        }
      ],
      "source": [
        "#OJAS SINGH.    #21BDS0187\n",
        "\n",
        "#1. Import the Dataset\n",
        "\n",
        "# Load necessary libraries\n",
        "library(dplyr)\n",
        "library(ggplot2)\n",
        "\n",
        "# Read the dataset\n",
        "df <- read.csv(\"SuicideChina.csv\", stringsAsFactors = FALSE)\n",
        "\n",
        "# View the first few rows\n",
        "head(df)\n",
        "\n",
        "#2. Checking Structure and Summary Statistics\n",
        "\n",
        "# Display dataset structure\n",
        "str(df)\n",
        "\n",
        "# Summary statistics\n",
        "summary(df)\n",
        "\n",
        "#3. Checking for Missing Values\n",
        "\n",
        "# Count missing values in each column\n",
        "colSums(is.na(df))\n",
        "\n",
        "#4. Basic Statistical Analysis\n",
        "#(a) Summary Statistics for Numerical Variables\n",
        "# Mean, median, and standard deviation of Age\n",
        "mean(df$Age, na.rm = TRUE)\n",
        "median(df$Age, na.rm = TRUE)\n",
        "sd(df$Age, na.rm = TRUE)\n",
        "\n",
        "#(b) Frequency Counts for Categorical Variables\n",
        "table(df$Sex)          # Count of Male and Female\n",
        "table(df$Education)    # Count of different education levels\n",
        "table(df$Occupation)   # Count of different occupations\n",
        "table(df$method)       # Count of different suicide methods\n",
        "\n",
        "#5. Data Transformation\n",
        "#(a) Convert \"yes/no\" to 1/0 in Hospitalised & Died Columns\n",
        "df$Hospitalised <- ifelse(df$Hospitalised == \"yes\", 1, 0)\n",
        "df$Died <- ifelse(df$Died == \"yes\", 1, 0)\n",
        "\n",
        "# View transformed data\n",
        "head(df)\n",
        "\n",
        "#(b) Convert Urban to Factor Variable\n",
        "df$Urban <- as.factor(df$Urban)\n",
        "\n",
        "#6. Filtering Data (Examples)\n",
        "#(a) Display Only Males Older Than 50 Years\n",
        "df_male_50 <- df %>% filter(Sex == \"male\" & Age > 50)\n",
        "head(df_male_50)\n",
        "\n",
        "#(b) Display People Who Were Hospitalised Before Dying\n",
        "df_hospitalised_died <- df %>% filter(Hospitalised == 1 & Died == 1)\n",
        "head(df_hospitalised_died)\n",
        "\n",
        "#7. Data Visualization\n",
        "#(a) Histogram of Age Distribution\n",
        "ggplot(df, aes(x = Age)) +\n",
        "  geom_histogram(binwidth = 5, fill = \"blue\", color = \"black\") +\n",
        "  labs(title = \"Age Distribution\", x = \"Age\", y = \"Count\")\n",
        "\n",
        "#(b) Bar Chart of Suicide Methods\n",
        "ggplot(df, aes(x = method)) +\n",
        "  geom_bar(fill = \"red\") +\n",
        "  theme(axis.text.x = element_text(angle = 45, hjust = 1)) +\n",
        "  labs(title = \"Suicide Methods Used\", x = \"Method\", y = \"Count\")\n",
        "\n",
        "#(c) Boxplot of Age by Sex\n",
        "ggplot(df, aes(x = Sex, y = Age, fill = Sex)) +\n",
        "  geom_boxplot() +\n",
        "  labs(title = \"Age Distribution by Sex\", x = \"Sex\", y = \"Age\")\n",
        "\n",
        "#8. Saving the Cleaned Data\n",
        "write.csv(df, \"SuicideChina_Cleaned.csv\", row.names = FALSE)\n",
        "\n",
        "\n",
        "\n",
        "\n"
      ]
    }
  ]
}